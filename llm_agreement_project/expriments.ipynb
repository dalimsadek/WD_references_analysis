{
 "cells": [
  {
   "cell_type": "code",
   "execution_count": 1,
   "id": "ef7f4964",
   "metadata": {},
   "outputs": [],
   "source": [
    "import pandas as pd"
   ]
  },
  {
   "cell_type": "code",
   "execution_count": 9,
   "id": "5879b1ef",
   "metadata": {},
   "outputs": [],
   "source": [
    "df_publisher = pd.read_csv(\"data/crowdsource/publisher_type.csv\")\n",
    "df_author = pd.read_csv(\"data/crowdsource/author_type.csv\")\n",
    "df_verification = pd.read_csv(\"data/crowdsource/publisher_verification.csv\") "
   ]
  },
  {
   "cell_type": "code",
   "execution_count": 10,
   "id": "c2b09b48",
   "metadata": {},
   "outputs": [],
   "source": [
    "# Extract unique entries for each file\n",
    "author_series = pd.DataFrame({'author': df_author['ref_value'].dropna().drop_duplicates()})\n",
    "publisher_series = pd.DataFrame({'publisher': df_publisher['domain'].dropna().drop_duplicates()})\n",
    "verification_series = pd.DataFrame({'verification': df_verification['domain'].dropna().drop_duplicates()})\n"
   ]
  },
  {
   "cell_type": "code",
   "execution_count": 11,
   "id": "1d796169",
   "metadata": {},
   "outputs": [
    {
     "name": "stdout",
     "output_type": "stream",
     "text": [
      "✅ Unique author ref_values:\n"
     ]
    },
    {
     "data": {
      "text/html": [
       "<div>\n",
       "<style scoped>\n",
       "    .dataframe tbody tr th:only-of-type {\n",
       "        vertical-align: middle;\n",
       "    }\n",
       "\n",
       "    .dataframe tbody tr th {\n",
       "        vertical-align: top;\n",
       "    }\n",
       "\n",
       "    .dataframe thead th {\n",
       "        text-align: right;\n",
       "    }\n",
       "</style>\n",
       "<table border=\"1\" class=\"dataframe\">\n",
       "  <thead>\n",
       "    <tr style=\"text-align: right;\">\n",
       "      <th></th>\n",
       "      <th>author</th>\n",
       "    </tr>\n",
       "  </thead>\n",
       "  <tbody>\n",
       "    <tr>\n",
       "      <th>0</th>\n",
       "      <td>http://8tracks.com/angeloflight12/shake-it-up-...</td>\n",
       "    </tr>\n",
       "    <tr>\n",
       "      <th>5</th>\n",
       "      <td>http://akas.imdb.com/name/nm2304352/</td>\n",
       "    </tr>\n",
       "    <tr>\n",
       "      <th>10</th>\n",
       "      <td>http://americanart.si.edu/collections/search/a...</td>\n",
       "    </tr>\n",
       "    <tr>\n",
       "      <th>15</th>\n",
       "      <td>http://americanart.si.edu/collections/search/a...</td>\n",
       "    </tr>\n",
       "    <tr>\n",
       "      <th>20</th>\n",
       "      <td>http://americanart.si.edu/collections/search/a...</td>\n",
       "    </tr>\n",
       "  </tbody>\n",
       "</table>\n",
       "</div>"
      ],
      "text/plain": [
       "                                               author\n",
       "0   http://8tracks.com/angeloflight12/shake-it-up-...\n",
       "5                http://akas.imdb.com/name/nm2304352/\n",
       "10  http://americanart.si.edu/collections/search/a...\n",
       "15  http://americanart.si.edu/collections/search/a...\n",
       "20  http://americanart.si.edu/collections/search/a..."
      ]
     },
     "metadata": {},
     "output_type": "display_data"
    },
    {
     "name": "stdout",
     "output_type": "stream",
     "text": [
      "✅ Unique publisher domains:\n"
     ]
    },
    {
     "data": {
      "text/html": [
       "<div>\n",
       "<style scoped>\n",
       "    .dataframe tbody tr th:only-of-type {\n",
       "        vertical-align: middle;\n",
       "    }\n",
       "\n",
       "    .dataframe tbody tr th {\n",
       "        vertical-align: top;\n",
       "    }\n",
       "\n",
       "    .dataframe thead th {\n",
       "        text-align: right;\n",
       "    }\n",
       "</style>\n",
       "<table border=\"1\" class=\"dataframe\">\n",
       "  <thead>\n",
       "    <tr style=\"text-align: right;\">\n",
       "      <th></th>\n",
       "      <th>publisher</th>\n",
       "    </tr>\n",
       "  </thead>\n",
       "  <tbody>\n",
       "    <tr>\n",
       "      <th>0</th>\n",
       "      <td>http://8tracks.com</td>\n",
       "    </tr>\n",
       "    <tr>\n",
       "      <th>5</th>\n",
       "      <td>http://addons.mozilla.org</td>\n",
       "    </tr>\n",
       "    <tr>\n",
       "      <th>14</th>\n",
       "      <td>http://akas.imdb.com</td>\n",
       "    </tr>\n",
       "    <tr>\n",
       "      <th>23</th>\n",
       "      <td>http://americanart.si.edu</td>\n",
       "    </tr>\n",
       "    <tr>\n",
       "      <th>28</th>\n",
       "      <td>http://archive.org</td>\n",
       "    </tr>\n",
       "  </tbody>\n",
       "</table>\n",
       "</div>"
      ],
      "text/plain": [
       "                    publisher\n",
       "0          http://8tracks.com\n",
       "5   http://addons.mozilla.org\n",
       "14       http://akas.imdb.com\n",
       "23  http://americanart.si.edu\n",
       "28         http://archive.org"
      ]
     },
     "metadata": {},
     "output_type": "display_data"
    },
    {
     "name": "stdout",
     "output_type": "stream",
     "text": [
      "✅ Unique verification domains:\n"
     ]
    },
    {
     "data": {
      "text/html": [
       "<div>\n",
       "<style scoped>\n",
       "    .dataframe tbody tr th:only-of-type {\n",
       "        vertical-align: middle;\n",
       "    }\n",
       "\n",
       "    .dataframe tbody tr th {\n",
       "        vertical-align: top;\n",
       "    }\n",
       "\n",
       "    .dataframe thead th {\n",
       "        text-align: right;\n",
       "    }\n",
       "</style>\n",
       "<table border=\"1\" class=\"dataframe\">\n",
       "  <thead>\n",
       "    <tr style=\"text-align: right;\">\n",
       "      <th></th>\n",
       "      <th>verification</th>\n",
       "    </tr>\n",
       "  </thead>\n",
       "  <tbody>\n",
       "    <tr>\n",
       "      <th>0</th>\n",
       "      <td>http://8tracks.com</td>\n",
       "    </tr>\n",
       "    <tr>\n",
       "      <th>7</th>\n",
       "      <td>http://addons.mozilla.org</td>\n",
       "    </tr>\n",
       "    <tr>\n",
       "      <th>13</th>\n",
       "      <td>http://akas.imdb.com</td>\n",
       "    </tr>\n",
       "    <tr>\n",
       "      <th>21</th>\n",
       "      <td>http://americanart.si.edu</td>\n",
       "    </tr>\n",
       "    <tr>\n",
       "      <th>27</th>\n",
       "      <td>http://amturing.acm.org</td>\n",
       "    </tr>\n",
       "  </tbody>\n",
       "</table>\n",
       "</div>"
      ],
      "text/plain": [
       "                 verification\n",
       "0          http://8tracks.com\n",
       "7   http://addons.mozilla.org\n",
       "13       http://akas.imdb.com\n",
       "21  http://americanart.si.edu\n",
       "27    http://amturing.acm.org"
      ]
     },
     "metadata": {},
     "output_type": "display_data"
    }
   ],
   "source": [
    "# Display the results\n",
    "print(\"✅ Unique author ref_values:\")\n",
    "display(author_series.head())\n",
    "\n",
    "print(\"✅ Unique publisher domains:\")\n",
    "display(publisher_series.head())\n",
    "\n",
    "print(\"✅ Unique verification domains:\")\n",
    "display(verification_series.head())"
   ]
  },
  {
   "cell_type": "code",
   "execution_count": 12,
   "id": "87fbfa8b",
   "metadata": {},
   "outputs": [],
   "source": [
    "# Optional: save them\n",
    "author_series.to_csv(\"data/unique/unique_authors.csv\", index=False)\n",
    "publisher_series.to_csv(\"data/unique/unique_publishers.csv\", index=False)\n",
    "verification_series.to_csv(\"data/unique/unique_verifications.csv\", index=False)"
   ]
  },
  {
   "cell_type": "code",
   "execution_count": 13,
   "id": "7cdc78a0",
   "metadata": {},
   "outputs": [],
   "source": [
    "author_urls = [\n",
    "    \"http://8tracks.com/angelo8flight12/shake-it-up-dance\",\n",
    "    \"http://akas.imdb.com/name/nm23804352\"\n",
    "]\n",
    "publisher_urls = [\n",
    "    \"http://8tracks.com\",\n",
    "    \"http://addons.mozilla.org\"\n",
    "]\n"
   ]
  },
  {
   "cell_type": "code",
   "execution_count": 14,
   "id": "27b2b41f",
   "metadata": {},
   "outputs": [],
   "source": [
    "from ollama import Client\n",
    "\n",
    "class LLMWrapper:\n",
    "    def __init__(\n",
    "        self,\n",
    "        model_name: str = \"llama3.2\",  # default to llama3.2 as you wrote\n",
    "        host: str = \"http://localhost:11434\",\n",
    "        verbose: bool = True\n",
    "    ):\n",
    "        \"\"\"\n",
    "        Initialize an Ollama LLM with customizable settings.\n",
    "\n",
    "        Args:\n",
    "            model_name (str): Name of the local Ollama model.\n",
    "            host (str): Host for the Ollama server.\n",
    "            verbose (bool): Whether to print init confirmation.\n",
    "        \"\"\"\n",
    "        self.model_name = model_name\n",
    "        self.client = Client(host=host)\n",
    "\n",
    "        if verbose:\n",
    "            print(f\"[LLMWrapper] Initialized Ollama LLM: {self.model_name} at {host}\")\n",
    "\n",
    "    def run_prompt(self, prompt):\n",
    "        \"\"\"\n",
    "        Send a prompt to the LLM and return the response content.\n",
    "        \"\"\"\n",
    "        response = self.client.chat(\n",
    "            model=self.model_name,\n",
    "            messages=[{\"role\": \"user\", \"content\": prompt}]\n",
    "        )\n",
    "        return response[\"message\"][\"content\"]\n"
   ]
  },
  {
   "cell_type": "code",
   "execution_count": 15,
   "id": "fd8ebcf4",
   "metadata": {},
   "outputs": [
    {
     "name": "stdout",
     "output_type": "stream",
     "text": [
      "[LLMWrapper] Initialized Ollama LLM: llama3.2 at http://localhost:11434\n"
     ]
    }
   ],
   "source": [
    "llm = LLMWrapper()"
   ]
  },
  {
   "cell_type": "code",
   "execution_count": 16,
   "id": "cbc70e29",
   "metadata": {},
   "outputs": [],
   "source": [
    "response = llm.run_prompt('who is the CEO of APPLE')"
   ]
  },
  {
   "cell_type": "code",
   "execution_count": 17,
   "id": "4bc20282",
   "metadata": {},
   "outputs": [
    {
     "data": {
      "text/plain": [
       "\"As of my knowledge cutoff in 2023, the CEO of Apple Inc. is Tim Cook. He has been serving as the company's CEO since August 2011, after Steve Jobs' passing. However, please note that this information may have changed since my knowledge cutoff date.\""
      ]
     },
     "execution_count": 17,
     "metadata": {},
     "output_type": "execute_result"
    }
   ],
   "source": [
    "response"
   ]
  },
  {
   "cell_type": "code",
   "execution_count": 18,
   "id": "bbef44f8",
   "metadata": {},
   "outputs": [],
   "source": [
    "author = pd.read_csv('data/crowdsource/author_type.csv')"
   ]
  },
  {
   "cell_type": "code",
   "execution_count": 19,
   "id": "a5fe25d6",
   "metadata": {},
   "outputs": [
    {
     "data": {
      "text/plain": [
       "array(['organisation', 'nw', 'collective', 'individual', 'ne', 'dn'],\n",
       "      dtype=object)"
      ]
     },
     "execution_count": 19,
     "metadata": {},
     "output_type": "execute_result"
    }
   ],
   "source": [
    "author[\"author_type\"].unique()"
   ]
  },
  {
   "cell_type": "code",
   "execution_count": 20,
   "id": "9a0df46b",
   "metadata": {},
   "outputs": [],
   "source": [
    "pt = pd.read_csv('data/crowdsource/publisher_type.csv')"
   ]
  },
  {
   "cell_type": "code",
   "execution_count": 21,
   "id": "2f1460ce",
   "metadata": {},
   "outputs": [
    {
     "data": {
      "text/plain": [
       "array(['news', 'company', 'sp_source', 'academia', 'other', 'nw', 'ne',\n",
       "       'govt'], dtype=object)"
      ]
     },
     "execution_count": 21,
     "metadata": {},
     "output_type": "execute_result"
    }
   ],
   "source": [
    "pt['publisher_type'].unique()"
   ]
  },
  {
   "cell_type": "code",
   "execution_count": 40,
   "id": "104b0ad3",
   "metadata": {},
   "outputs": [],
   "source": [
    "pv = pd.read_csv('data/crowdsource/publisher_verification.csv')"
   ]
  },
  {
   "cell_type": "code",
   "execution_count": 42,
   "id": "2bc5b2c0",
   "metadata": {},
   "outputs": [
    {
     "data": {
      "text/html": [
       "<div>\n",
       "<style scoped>\n",
       "    .dataframe tbody tr th:only-of-type {\n",
       "        vertical-align: middle;\n",
       "    }\n",
       "\n",
       "    .dataframe tbody tr th {\n",
       "        vertical-align: top;\n",
       "    }\n",
       "\n",
       "    .dataframe thead th {\n",
       "        text-align: right;\n",
       "    }\n",
       "</style>\n",
       "<table border=\"1\" class=\"dataframe\">\n",
       "  <thead>\n",
       "    <tr style=\"text-align: right;\">\n",
       "      <th></th>\n",
       "      <th>domain</th>\n",
       "      <th>X_worker_id</th>\n",
       "      <th>results</th>\n",
       "    </tr>\n",
       "  </thead>\n",
       "  <tbody>\n",
       "    <tr>\n",
       "      <th>0</th>\n",
       "      <td>http://8tracks.com</td>\n",
       "      <td>29415754</td>\n",
       "      <td>vendor</td>\n",
       "    </tr>\n",
       "    <tr>\n",
       "      <th>1</th>\n",
       "      <td>http://8tracks.com</td>\n",
       "      <td>41189648</td>\n",
       "      <td>vendor</td>\n",
       "    </tr>\n",
       "    <tr>\n",
       "      <th>2</th>\n",
       "      <td>http://8tracks.com</td>\n",
       "      <td>36268643</td>\n",
       "      <td>vendor</td>\n",
       "    </tr>\n",
       "    <tr>\n",
       "      <th>3</th>\n",
       "      <td>http://8tracks.com</td>\n",
       "      <td>28375885</td>\n",
       "      <td>vendor</td>\n",
       "    </tr>\n",
       "    <tr>\n",
       "      <th>4</th>\n",
       "      <td>http://8tracks.com</td>\n",
       "      <td>39006856</td>\n",
       "      <td>vendor</td>\n",
       "    </tr>\n",
       "    <tr>\n",
       "      <th>...</th>\n",
       "      <td>...</td>\n",
       "      <td>...</td>\n",
       "      <td>...</td>\n",
       "    </tr>\n",
       "    <tr>\n",
       "      <th>1660</th>\n",
       "      <td>http://yum.baseurl.org</td>\n",
       "      <td>39332461</td>\n",
       "      <td>vendor</td>\n",
       "    </tr>\n",
       "    <tr>\n",
       "      <th>1661</th>\n",
       "      <td>http://yum.baseurl.org</td>\n",
       "      <td>41652222</td>\n",
       "      <td>vendor</td>\n",
       "    </tr>\n",
       "    <tr>\n",
       "      <th>1662</th>\n",
       "      <td>http://yum.baseurl.org</td>\n",
       "      <td>34630521</td>\n",
       "      <td>no</td>\n",
       "    </tr>\n",
       "    <tr>\n",
       "      <th>1663</th>\n",
       "      <td>http://yum.baseurl.org</td>\n",
       "      <td>35673676</td>\n",
       "      <td>no</td>\n",
       "    </tr>\n",
       "    <tr>\n",
       "      <th>1664</th>\n",
       "      <td>http://yum.baseurl.org</td>\n",
       "      <td>40323250</td>\n",
       "      <td>vendor</td>\n",
       "    </tr>\n",
       "  </tbody>\n",
       "</table>\n",
       "<p>1665 rows × 3 columns</p>\n",
       "</div>"
      ],
      "text/plain": [
       "                      domain  X_worker_id results\n",
       "0         http://8tracks.com     29415754  vendor\n",
       "1         http://8tracks.com     41189648  vendor\n",
       "2         http://8tracks.com     36268643  vendor\n",
       "3         http://8tracks.com     28375885  vendor\n",
       "4         http://8tracks.com     39006856  vendor\n",
       "...                      ...          ...     ...\n",
       "1660  http://yum.baseurl.org     39332461  vendor\n",
       "1661  http://yum.baseurl.org     41652222  vendor\n",
       "1662  http://yum.baseurl.org     34630521      no\n",
       "1663  http://yum.baseurl.org     35673676      no\n",
       "1664  http://yum.baseurl.org     40323250  vendor\n",
       "\n",
       "[1665 rows x 3 columns]"
      ]
     },
     "execution_count": 42,
     "metadata": {},
     "output_type": "execute_result"
    }
   ],
   "source": [
    "pv\n"
   ]
  },
  {
   "cell_type": "code",
   "execution_count": 24,
   "id": "e546fbdd",
   "metadata": {},
   "outputs": [],
   "source": [
    "def author_type_prompt(ref_value):\n",
    "    return f\"\"\"\n",
    "You are an expert assistant tasked with classifying the **type of author** for the following reference URL or citation:\n",
    "\n",
    "Reference: {ref_value}\n",
    "\n",
    "Please determine the author type based on the reference and choose one of the following categories:\n",
    "- 'individual': if the content is authored by a named person.\n",
    "- 'organisation': if the content is authored by a company, institution, or group.\n",
    "- 'collective': if the article is signed by a collective group (e.g., editorial board).\n",
    "- 'nw' (not well-defined): if the URL or metadata is broken, unclear, or not informative.\n",
    "- 'ne' (not enough evidence): if there's not enough information to decide.\n",
    "- 'dn' (does not apply): if the reference is irrelevant or malformed.\n",
    "\n",
    "\n",
    "Your output should be **only one of these labels**: individual, organisation, collective, nw, ne, dn.\n",
    "Return your answer as a JSON object using this format:\n",
    "{{\"label\": \"<one_of_the_labels_above>\"}}\n",
    "\n",
    "Only output the JSON. Do not include any explanations.\n",
    "\"\"\"\n"
   ]
  },
  {
   "cell_type": "code",
   "execution_count": 25,
   "id": "20115a8c",
   "metadata": {},
   "outputs": [],
   "source": [
    "def publisher_type_prompt(domain):\n",
    "    return f\"\"\"\n",
    "You are evaluating the **type of publisher** associated with this web domain:\n",
    "\n",
    "Domain: {domain}\n",
    "\n",
    "Classify the domain into one of the following types:\n",
    "- 'news': News outlet (e.g., BBC, CNN).\n",
    "- 'company': Corporate website or brand.\n",
    "- 'sp_source': Special interest group (e.g., activist organizations).\n",
    "- 'academia': University, scholarly, or academic institution.\n",
    "- 'govt': Government-related website.\n",
    "- 'other': If it doesn't fit any of the above.\n",
    "- 'nw' (not well-defined): if the domain is ambiguous or lacks proper information.\n",
    "- 'ne' (not enough evidence): if you cannot confidently decide.\n",
    "- 'dn' (does not apply): if the domain is invalid or unrelated.\n",
    "\n",
    "Your response must be one of these labels: news, company, sp_source, academia, other, nw, ne, govt, dn.\n",
    "Return your answer as a JSON object using this format:\n",
    "{{\"label\": \"<one_of_the_labels_above>\"}}\n",
    "\n",
    "Only output the JSON. Do not include any explanations.\n",
    "\"\"\"\n"
   ]
  },
  {
   "cell_type": "code",
   "execution_count": 53,
   "id": "025188a6",
   "metadata": {},
   "outputs": [],
   "source": [
    "def publisher_verification_prompt(domain):\n",
    "    return f\"\"\"\n",
    "You are evaluating the **verification type** of the publisher associated with this domain:\n",
    "\n",
    "Domain: {domain}\n",
    "\n",
    "Choose the most appropriate label from the following options:\n",
    "- 'yes': if the publisher is verified or reputable.\n",
    "- 'no': if the publisher is known to be unreliable.\n",
    "- 'vendor': if it's a commercial seller or online marketplace.\n",
    "- 'no_profit': if the site belongs to a nonprofit organization.\n",
    "- 'political': if the domain represents a political entity or campaign.\n",
    "- 'cultural': if it's a cultural or artistic institution.\n",
    "- 'trad_news': a traditional media outlet (e.g., established newspapers).\n",
    "- 'non_trad_news': blogs, YouTube channels, or alt-media sites.\n",
    "- 'academia_uni': university-level academic publisher.\n",
    "- 'academia_pub': peer-reviewed academic journal or press.\n",
    "- 'academia_other': other academic institution.\n",
    "- 'nw': not well-defined.\n",
    "- 'ne': not enough evidence to decide.\n",
    "- 'dn': does not apply.\n",
    "\n",
    "Please return one label from the list above.\n",
    "Return your answer as a JSON object using this format:\n",
    "{{\"label\": \"<one_of_the_labels_above>\"}}\n",
    "\n",
    "Only output the JSON. \n",
    "STRICT INSTRUCTIONS :\n",
    "Do not include any explanations.\n",
    "\"\"\"\n"
   ]
  },
  {
   "cell_type": "code",
   "execution_count": 46,
   "id": "97249c03",
   "metadata": {},
   "outputs": [
    {
     "data": {
      "text/html": [
       "<div>\n",
       "<style scoped>\n",
       "    .dataframe tbody tr th:only-of-type {\n",
       "        vertical-align: middle;\n",
       "    }\n",
       "\n",
       "    .dataframe tbody tr th {\n",
       "        vertical-align: top;\n",
       "    }\n",
       "\n",
       "    .dataframe thead th {\n",
       "        text-align: right;\n",
       "    }\n",
       "</style>\n",
       "<table border=\"1\" class=\"dataframe\">\n",
       "  <thead>\n",
       "    <tr style=\"text-align: right;\">\n",
       "      <th></th>\n",
       "      <th>domain</th>\n",
       "      <th>X_worker_id</th>\n",
       "      <th>results</th>\n",
       "    </tr>\n",
       "  </thead>\n",
       "  <tbody>\n",
       "    <tr>\n",
       "      <th>0</th>\n",
       "      <td>http://8tracks.com</td>\n",
       "      <td>29415754</td>\n",
       "      <td>vendor</td>\n",
       "    </tr>\n",
       "    <tr>\n",
       "      <th>1</th>\n",
       "      <td>http://8tracks.com</td>\n",
       "      <td>41189648</td>\n",
       "      <td>vendor</td>\n",
       "    </tr>\n",
       "    <tr>\n",
       "      <th>2</th>\n",
       "      <td>http://8tracks.com</td>\n",
       "      <td>36268643</td>\n",
       "      <td>vendor</td>\n",
       "    </tr>\n",
       "    <tr>\n",
       "      <th>3</th>\n",
       "      <td>http://8tracks.com</td>\n",
       "      <td>28375885</td>\n",
       "      <td>vendor</td>\n",
       "    </tr>\n",
       "    <tr>\n",
       "      <th>4</th>\n",
       "      <td>http://8tracks.com</td>\n",
       "      <td>39006856</td>\n",
       "      <td>vendor</td>\n",
       "    </tr>\n",
       "    <tr>\n",
       "      <th>...</th>\n",
       "      <td>...</td>\n",
       "      <td>...</td>\n",
       "      <td>...</td>\n",
       "    </tr>\n",
       "    <tr>\n",
       "      <th>1660</th>\n",
       "      <td>http://yum.baseurl.org</td>\n",
       "      <td>39332461</td>\n",
       "      <td>vendor</td>\n",
       "    </tr>\n",
       "    <tr>\n",
       "      <th>1661</th>\n",
       "      <td>http://yum.baseurl.org</td>\n",
       "      <td>41652222</td>\n",
       "      <td>vendor</td>\n",
       "    </tr>\n",
       "    <tr>\n",
       "      <th>1662</th>\n",
       "      <td>http://yum.baseurl.org</td>\n",
       "      <td>34630521</td>\n",
       "      <td>no</td>\n",
       "    </tr>\n",
       "    <tr>\n",
       "      <th>1663</th>\n",
       "      <td>http://yum.baseurl.org</td>\n",
       "      <td>35673676</td>\n",
       "      <td>no</td>\n",
       "    </tr>\n",
       "    <tr>\n",
       "      <th>1664</th>\n",
       "      <td>http://yum.baseurl.org</td>\n",
       "      <td>40323250</td>\n",
       "      <td>vendor</td>\n",
       "    </tr>\n",
       "  </tbody>\n",
       "</table>\n",
       "<p>1665 rows × 3 columns</p>\n",
       "</div>"
      ],
      "text/plain": [
       "                      domain  X_worker_id results\n",
       "0         http://8tracks.com     29415754  vendor\n",
       "1         http://8tracks.com     41189648  vendor\n",
       "2         http://8tracks.com     36268643  vendor\n",
       "3         http://8tracks.com     28375885  vendor\n",
       "4         http://8tracks.com     39006856  vendor\n",
       "...                      ...          ...     ...\n",
       "1660  http://yum.baseurl.org     39332461  vendor\n",
       "1661  http://yum.baseurl.org     41652222  vendor\n",
       "1662  http://yum.baseurl.org     34630521      no\n",
       "1663  http://yum.baseurl.org     35673676      no\n",
       "1664  http://yum.baseurl.org     40323250  vendor\n",
       "\n",
       "[1665 rows x 3 columns]"
      ]
     },
     "execution_count": 46,
     "metadata": {},
     "output_type": "execute_result"
    }
   ],
   "source": [
    "pv"
   ]
  },
  {
   "cell_type": "code",
   "execution_count": 51,
   "id": "0cde10e2",
   "metadata": {},
   "outputs": [],
   "source": [
    "# # 2. Extract unique values\n",
    "# unique_authors = author['ref_value'].dropna().unique()\n",
    "# unique_publishers = pt['domain'].dropna().unique()\n",
    "unique_verifiers = pv['domain'].dropna().unique()"
   ]
  },
  {
   "cell_type": "code",
   "execution_count": 52,
   "id": "36d31948",
   "metadata": {},
   "outputs": [
    {
     "data": {
      "text/plain": [
       "293"
      ]
     },
     "execution_count": 52,
     "metadata": {},
     "output_type": "execute_result"
    }
   ],
   "source": [
    "len(unique_verifiers)"
   ]
  },
  {
   "cell_type": "code",
   "execution_count": 28,
   "id": "e9e27fdb",
   "metadata": {},
   "outputs": [],
   "source": [
    "author_results = []\n",
    "publisher_results = []\n",
    "verification_results = []"
   ]
  },
  {
   "cell_type": "code",
   "execution_count": 29,
   "id": "c4bdafec",
   "metadata": {},
   "outputs": [
    {
     "name": "stdout",
     "output_type": "stream",
     "text": [
      "---------- Number of unique ref for the AUTHORS --------------\n",
      "1178\n",
      "---------- Number of unique ref for the PUBLISHER --------------\n",
      "278\n",
      "---------- Number of unique ref for the VERIFICATION --------------\n",
      "293\n"
     ]
    }
   ],
   "source": [
    "print('---------- Number of unique ref for the AUTHORS --------------')\n",
    "print(len(unique_authors))\n",
    "print('---------- Number of unique ref for the PUBLISHER --------------')\n",
    "print(len(unique_publishers))\n",
    "print('---------- Number of unique ref for the VERIFICATION --------------')\n",
    "print(len(unique_verifiers))\n"
   ]
  },
  {
   "cell_type": "code",
   "execution_count": 31,
   "id": "264b53a6",
   "metadata": {},
   "outputs": [],
   "source": [
    "import json"
   ]
  },
  {
   "cell_type": "code",
   "execution_count": 30,
   "id": "76176472",
   "metadata": {},
   "outputs": [],
   "source": [
    "prompt = author_type_prompt(\"http://8tracks.com/angeloflight12/shake-it-up-dance\")\n",
    "response = llm.run_prompt(prompt)"
   ]
  },
  {
   "cell_type": "code",
   "execution_count": 35,
   "id": "4f75387b",
   "metadata": {},
   "outputs": [
    {
     "data": {
      "text/plain": [
       "'nw'"
      ]
     },
     "execution_count": 35,
     "metadata": {},
     "output_type": "execute_result"
    }
   ],
   "source": [
    "json.loads(response)[\"label\"]"
   ]
  },
  {
   "cell_type": "code",
   "execution_count": null,
   "id": "5278eb3f",
   "metadata": {},
   "outputs": [],
   "source": [
    "# #4. Predict Author Type\n",
    "# for ref in unique_authors:\n",
    "#     prompt = author_type_prompt(ref)\n",
    "#     response = llm.run_prompt(prompt) \n",
    "#     label = json.loads(response)[\"label\"]\n",
    "#     author_results.append((ref, label))\n",
    "    \n",
    "    \n",
    "\n",
    "# # 5. Predict Publisher Type\n",
    "# for domain in unique_publishers:\n",
    "#     prompt = publisher_type_prompt(domain)\n",
    "#     response = llm.run_prompt(prompt)\n",
    "#     label = json.loads(response)[\"label\"]\n",
    "#     publisher_results.append((domain, label))\n",
    "\n",
    "# 6. Predict Publisher Verification Type\n",
    "# for domain in unique_verifiers:\n",
    "#     prompt = publisher_verification_prompt(domain)\n",
    "#     response = llm.run_prompt(prompt)\n",
    "#     label = json.loads(response)[\"label\"]\n",
    "#     verification_results.append((domain, label))\n"
   ]
  },
  {
   "cell_type": "code",
   "execution_count": 55,
   "id": "cdca349b",
   "metadata": {},
   "outputs": [],
   "source": [
    "import os"
   ]
  },
  {
   "cell_type": "code",
   "execution_count": 56,
   "id": "6f1b085e",
   "metadata": {},
   "outputs": [],
   "source": [
    "# Create the target directory if it doesn't exist\n",
    "output_dir = \"data/llm_crowdsource\"\n",
    "os.makedirs(output_dir, exist_ok=True)\n",
    "\n",
    "# Convert to DataFrames\n",
    "df_author = pd.DataFrame(author_results, columns=[\"ref_value\", \"author_type\"])\n",
    "df_publisher = pd.DataFrame(publisher_results, columns=[\"domain\", \"publisher_type\"])\n",
    "df_verification = pd.DataFrame(verification_results, columns=[\"domain\", \"publisher_verification\"])\n",
    "\n",
    "# Save as CSV\n",
    "df_author.to_csv(os.path.join(output_dir, \"author_results.csv\"), index=False)\n",
    "df_publisher.to_csv(os.path.join(output_dir, \"publisher_results.csv\"), index=False)\n",
    "df_verification.to_csv(os.path.join(output_dir, \"verification_results.csv\"), index=False)"
   ]
  },
  {
   "cell_type": "code",
   "execution_count": 67,
   "id": "810a35e6",
   "metadata": {},
   "outputs": [],
   "source": [
    "properties = [\n",
    "    \"P31\", \"P1215\", \"P258\", \"P17\", \"P131\", \"P106\", \"P625\", \"P2215\", \"P3083\",\n",
    "    \"P6257\", \"P6259\", \"P6258\", \"P21\", \"P2671\", \"P59\", \"P735\", \"P569\", \"P27\",\n",
    "    \"P18\", \"P646\", \"P361\", \"P684\", \"P1476\", \"P734\", \"P2216\", \"P1566\", \"P2214\",\n",
    "    \"P171\", \"P225\", \"P105\", \"P373\", \"P279\", \"P19\", \"P2583\", \"P214\", \"P570\",\n",
    "    \"P1087\", \"P703\", \"P407\", \"P276\", \"P846\", \"P571\", \"P577\", \"P1412\", \"P1082\",\n",
    "    \"P971\", \"P69\", \"P1435\", \"P421\", \"P195\", \"P527\"\n",
    "]\n"
   ]
  },
  {
   "cell_type": "code",
   "execution_count": 68,
   "id": "e436b740",
   "metadata": {},
   "outputs": [
    {
     "name": "stdout",
     "output_type": "stream",
     "text": [
      "hello\n"
     ]
    }
   ],
   "source": [
    "print('hello')"
   ]
  },
  {
   "cell_type": "code",
   "execution_count": null,
   "id": "ad599aeb",
   "metadata": {},
   "outputs": [],
   "source": [
    "from ollama import Client\n",
    "client = Client(\n",
    "  host='http://localhost:11434',\n",
    ")\n",
    "response = client.chat(model='llama3.2', messages=[\n",
    "  {\n",
    "    'role': 'user',\n",
    "    'content': 'Why is the sky blue?',\n",
    "  },\n",
    "])"
   ]
  },
  {
   "cell_type": "code",
   "execution_count": 1,
   "id": "7fa61683",
   "metadata": {},
   "outputs": [
    {
     "name": "stdout",
     "output_type": "stream",
     "text": [
      "Fleiss' Kappa (Author Type, 1 crowd + 1 LLM): 0.14679739451374615\n"
     ]
    }
   ],
   "source": [
    "import pandas as pd\n",
    "from metrics import computeFleissKappa\n",
    "\n",
    "# Load crowdsource and LLM data\n",
    "crowd = pd.read_csv(\"data/crowdsource/author_type.csv\")\n",
    "llm = pd.read_csv(\"data/llm_crowdsource/author_results.csv\")\n",
    "llm.columns = ['ref_value', 'author_type']\n",
    "\n",
    "# Deduplicate crowdsource to 1 row per ref_value by taking first rater\n",
    "crowd_one = crowd[['ref_value', 'author_type']].drop_duplicates('ref_value')\n",
    "\n",
    "# Merge\n",
    "merged = pd.merge(crowd_one, llm, on='ref_value', suffixes=('_crowd', '_llm'))\n",
    "\n",
    "# Possible labels\n",
    "LABELS = ['organisation', 'collective', 'nw', 'individual', 'ne', 'dn']\n",
    "\n",
    "# Count matrix\n",
    "fleiss_ratings = []\n",
    "for _, row in merged.iterrows():\n",
    "    counts = [0] * len(LABELS)\n",
    "    if row['author_type_crowd'] in LABELS:\n",
    "        counts[LABELS.index(row['author_type_crowd'])] += 1\n",
    "    if row['author_type_llm'] in LABELS:\n",
    "        counts[LABELS.index(row['author_type_llm'])] += 1\n",
    "    fleiss_ratings.append(counts)\n",
    "\n",
    "# Compute Fleiss' Kappa\n",
    "kappa = computeFleissKappa(fleiss_ratings)\n",
    "print(\"Fleiss' Kappa (Author Type, 1 crowd + 1 LLM):\", kappa)\n"
   ]
  },
  {
   "cell_type": "code",
   "execution_count": null,
   "id": "d665bc2a",
   "metadata": {},
   "outputs": [
    {
     "ename": "ModuleNotFoundError",
     "evalue": "No module named 'metrics'",
     "output_type": "error",
     "traceback": [
      "\u001b[31m---------------------------------------------------------------------------\u001b[39m",
      "\u001b[31mModuleNotFoundError\u001b[39m                       Traceback (most recent call last)",
      "\u001b[36mCell\u001b[39m\u001b[36m \u001b[39m\u001b[32mIn[1]\u001b[39m\u001b[32m, line 1\u001b[39m\n\u001b[32m----> \u001b[39m\u001b[32m1\u001b[39m \u001b[38;5;28;01mimport\u001b[39;00m\u001b[38;5;250m \u001b[39m\u001b[34;01mmetrics\u001b[39;00m\n",
      "\u001b[31mModuleNotFoundError\u001b[39m: No module named 'metrics'"
     ]
    }
   ],
   "source": []
  },
  {
   "cell_type": "code",
   "execution_count": null,
   "id": "1c7f2d23",
   "metadata": {},
   "outputs": [],
   "source": []
  }
 ],
 "metadata": {
  "kernelspec": {
   "display_name": ".venv",
   "language": "python",
   "name": "python3"
  },
  "language_info": {
   "codemirror_mode": {
    "name": "ipython",
    "version": 3
   },
   "file_extension": ".py",
   "mimetype": "text/x-python",
   "name": "python",
   "nbconvert_exporter": "python",
   "pygments_lexer": "ipython3",
   "version": "3.12.3"
  }
 },
 "nbformat": 4,
 "nbformat_minor": 5
}
